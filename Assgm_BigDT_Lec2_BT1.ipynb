{
  "nbformat": 4,
  "nbformat_minor": 0,
  "metadata": {
    "colab": {
      "name": "Assgm-BigDT-Lec2-BT1.ipynb",
      "provenance": [],
      "collapsed_sections": []
    },
    "kernelspec": {
      "name": "python3",
      "display_name": "Python 3"
    }
  },
  "cells": [
    {
      "cell_type": "code",
      "metadata": {
        "id": "PDpzrkUkKlU2",
        "colab": {
          "base_uri": "https://localhost:8080/"
        },
        "outputId": "f805a46a-4a21-461d-c8bf-7075cb905d8d"
      },
      "source": [
        "!pip install pyspark"
      ],
      "execution_count": null,
      "outputs": [
        {
          "output_type": "stream",
          "text": [
            "Collecting pyspark\n",
            "\u001b[?25l  Downloading https://files.pythonhosted.org/packages/f0/26/198fc8c0b98580f617cb03cb298c6056587b8f0447e20fa40c5b634ced77/pyspark-3.0.1.tar.gz (204.2MB)\n",
            "\u001b[K     |████████████████████████████████| 204.2MB 69kB/s \n",
            "\u001b[?25hCollecting py4j==0.10.9\n",
            "\u001b[?25l  Downloading https://files.pythonhosted.org/packages/9e/b6/6a4fb90cd235dc8e265a6a2067f2a2c99f0d91787f06aca4bcf7c23f3f80/py4j-0.10.9-py2.py3-none-any.whl (198kB)\n",
            "\u001b[K     |████████████████████████████████| 204kB 43.8MB/s \n",
            "\u001b[?25hBuilding wheels for collected packages: pyspark\n",
            "  Building wheel for pyspark (setup.py) ... \u001b[?25l\u001b[?25hdone\n",
            "  Created wheel for pyspark: filename=pyspark-3.0.1-py2.py3-none-any.whl size=204612242 sha256=e60c30066f4d0dd023122dcaa6ad3e919aad0b16f7da344ecda70c0761254873\n",
            "  Stored in directory: /root/.cache/pip/wheels/5e/bd/07/031766ca628adec8435bb40f0bd83bb676ce65ff4007f8e73f\n",
            "Successfully built pyspark\n",
            "Installing collected packages: py4j, pyspark\n",
            "Successfully installed py4j-0.10.9 pyspark-3.0.1\n"
          ],
          "name": "stdout"
        }
      ]
    },
    {
      "cell_type": "code",
      "metadata": {
        "id": "YBAo-zWzKW1I"
      },
      "source": [
        "import pyspark\r\n",
        "from pyspark import SparkConf, SparkContext\r\n",
        "import collections\r\n"
      ],
      "execution_count": null,
      "outputs": []
    },
    {
      "cell_type": "code",
      "metadata": {
        "id": "JCT_zh7JKuTK"
      },
      "source": [
        "conf = SparkConf().setMaster(\"local\").setAppName(\"word counting\")\r\n",
        "# sc = SparkContext(conf = conf)\r\n",
        "sc = SparkContext.getOrCreate(conf = conf)"
      ],
      "execution_count": null,
      "outputs": []
    },
    {
      "cell_type": "code",
      "metadata": {
        "id": "jz0gIoKOabZ-",
        "colab": {
          "base_uri": "https://localhost:8080/"
        },
        "outputId": "0778288d-f53a-482a-a699-cc6d1de9e1f5"
      },
      "source": [
        "f = sc.textFile(\"/content/drive/MyDrive/Colab Notebooks/source.txt\")\r\n",
        "text = f.flatMap(lambda x: x.split(\" \"))\r\n",
        "print(text.collect())"
      ],
      "execution_count": 31,
      "outputs": [
        {
          "output_type": "stream",
          "text": [
            "['lam', 'quen', 'voi', 'spark', 'khi', 'ma', 'viec', 'lam', 'quen', 'duoc', 'hoan', 'tat', 'thi', 'tiep', 'theo']\n"
          ],
          "name": "stdout"
        }
      ]
    },
    {
      "cell_type": "code",
      "metadata": {
        "id": "Y81nwzEbKu7p",
        "colab": {
          "base_uri": "https://localhost:8080/"
        },
        "outputId": "44abfc95-3fb5-4189-d556-30ec2c59681d"
      },
      "source": [
        "counts = text.map(lambda word:(word, 1))\r\n",
        "print(counts.collect())"
      ],
      "execution_count": 32,
      "outputs": [
        {
          "output_type": "stream",
          "text": [
            "[('lam', 1), ('quen', 1), ('voi', 1), ('spark', 1), ('khi', 1), ('ma', 1), ('viec', 1), ('lam', 1), ('quen', 1), ('duoc', 1), ('hoan', 1), ('tat', 1), ('thi', 1), ('tiep', 1), ('theo', 1)]\n"
          ],
          "name": "stdout"
        }
      ]
    },
    {
      "cell_type": "code",
      "metadata": {
        "colab": {
          "base_uri": "https://localhost:8080/"
        },
        "id": "qSDo7DVBKwtX",
        "outputId": "99922f58-2f53-494b-8e81-fcc262bdb46d"
      },
      "source": [
        "red = counts.reduceByKey(lambda x,y: x+y)\r\n",
        "print(red.collect())"
      ],
      "execution_count": 33,
      "outputs": [
        {
          "output_type": "stream",
          "text": [
            "[('lam', 2), ('quen', 2), ('voi', 1), ('spark', 1), ('khi', 1), ('ma', 1), ('viec', 1), ('duoc', 1), ('hoan', 1), ('tat', 1), ('thi', 1), ('tiep', 1), ('theo', 1)]\n"
          ],
          "name": "stdout"
        }
      ]
    },
    {
      "cell_type": "code",
      "metadata": {
        "colab": {
          "base_uri": "https://localhost:8080/"
        },
        "id": "EgINh-ghLPlX",
        "outputId": "8496f189-64db-4c0d-aa82-1a211f7f8c0b"
      },
      "source": [
        "### Tan suat cua moi tu\r\n",
        "FreW = red.collect()\r\n",
        "FreW = sorted(FreW, key=lambda x: x[1], reverse=True)\r\n",
        "print(FreW)\r\n"
      ],
      "execution_count": 35,
      "outputs": [
        {
          "output_type": "stream",
          "text": [
            "[('lam', 2), ('quen', 2), ('voi', 1), ('spark', 1), ('khi', 1), ('ma', 1), ('viec', 1), ('duoc', 1), ('hoan', 1), ('tat', 1), ('thi', 1), ('tiep', 1), ('theo', 1)]\n"
          ],
          "name": "stdout"
        }
      ]
    }
  ]
}
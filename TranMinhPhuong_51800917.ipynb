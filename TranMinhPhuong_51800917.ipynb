{
  "nbformat": 4,
  "nbformat_minor": 0,
  "metadata": {
    "colab": {
      "name": "BigDT-Lec2-BT.ipynb",
      "provenance": []
    },
    "kernelspec": {
      "name": "python3",
      "display_name": "Python 3"
    }
  },
  "cells": [
    {
      "cell_type": "code",
      "metadata": {
        "id": "PDpzrkUkKlU2"
      },
      "source": [
        "!pip install pyspark"
      ],
      "execution_count": null,
      "outputs": []
    },
    {
      "cell_type": "code",
      "metadata": {
        "id": "YBAo-zWzKW1I"
      },
      "source": [
        "import pyspark\r\n",
        "from pyspark import SparkConf, SparkContext\r\n",
        "import collections\r\n"
      ],
      "execution_count": 3,
      "outputs": []
    },
    {
      "cell_type": "code",
      "metadata": {
        "id": "JCT_zh7JKuTK"
      },
      "source": [
        "conf = SparkConf().setMaster(\"local\").setAppName(\"word counting\")\r\n",
        "# sc = SparkContext(conf = conf)\r\n",
        "sc = SparkContext.getOrCreate(conf = conf)"
      ],
      "execution_count": 4,
      "outputs": []
    },
    {
      "cell_type": "code",
      "metadata": {
        "id": "Y81nwzEbKu7p"
      },
      "source": [
        "text = \"1 2 3 1 3 2 9 9 2 9 1 4 1 5 6 2 3\".split()\r\n",
        "rdd = sc.parallelize(text)\r\n",
        "counts = rdd.map(lambda word:(word, 1))\r\n",
        "print(counts.collect())"
      ],
      "execution_count": null,
      "outputs": []
    },
    {
      "cell_type": "code",
      "metadata": {
        "colab": {
          "base_uri": "https://localhost:8080/"
        },
        "id": "qSDo7DVBKwtX",
        "outputId": "fb9ba88e-ca55-43c4-a016-3e7dac30ae38"
      },
      "source": [
        "red = counts.reduceByKey(lambda x,y: x+y)\r\n",
        "print(red.collect())"
      ],
      "execution_count": 6,
      "outputs": [
        {
          "output_type": "stream",
          "text": [
            "[('1', 4), ('2', 4), ('3', 3), ('9', 3), ('4', 1), ('5', 1), ('6', 1)]\n"
          ],
          "name": "stdout"
        }
      ]
    },
    {
      "cell_type": "code",
      "metadata": {
        "colab": {
          "base_uri": "https://localhost:8080/"
        },
        "id": "EgINh-ghLPlX",
        "outputId": "b0ab03d4-bdda-45a9-adee-8353e0d8c7a9"
      },
      "source": [
        "### Tim so lon nhat\r\n",
        "redL = red.collect()\r\n",
        "redL = sorted(redL, key=lambda x: x[0], reverse=True)\r\n",
        "print(redL)\r\n",
        "Max = redL[0][0]\r\n",
        "print(Max)"
      ],
      "execution_count": 19,
      "outputs": [
        {
          "output_type": "stream",
          "text": [
            "[('9', 3), ('6', 1), ('5', 1), ('4', 1), ('3', 3), ('2', 4), ('1', 4)]\n",
            "9\n"
          ],
          "name": "stdout"
        }
      ]
    },
    {
      "cell_type": "code",
      "metadata": {
        "colab": {
          "base_uri": "https://localhost:8080/"
        },
        "id": "1E9EjQU5M4Sp",
        "outputId": "7d0567a1-3f30-46c0-f186-c6983b4377e5"
      },
      "source": [
        "### Tim trung binh cua cac so\r\n",
        "redL1 = counts.collect()\r\n",
        "redL1 = list(map(lambda x : int(x[0]),redL1))\r\n",
        "print(redL1)\r\n",
        "N = len(redL1)\r\n",
        "s = sum(redL1)\r\n",
        "Average = s/N\r\n",
        "print(Average)"
      ],
      "execution_count": 20,
      "outputs": [
        {
          "output_type": "stream",
          "text": [
            "[1, 2, 3, 1, 3, 2, 9, 9, 2, 9, 1, 4, 1, 5, 6, 2, 3]\n",
            "3.7058823529411766\n"
          ],
          "name": "stdout"
        }
      ]
    }
  ]
}